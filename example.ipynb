{
 "cells": [
  {
   "cell_type": "markdown",
   "id": "02e4df0a",
   "metadata": {},
   "source": [
    "thêm 1 cái nữa"
   ]
  },
  {
   "cell_type": "markdown",
   "id": "b708635e",
   "metadata": {},
   "source": [
    "test tí thôi"
   ]
  }
 ],
 "metadata": {
  "language_info": {
   "name": "python"
  }
 },
 "nbformat": 4,
 "nbformat_minor": 5
}
